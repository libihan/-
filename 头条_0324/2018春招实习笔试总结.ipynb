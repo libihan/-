{
 "cells": [
  {
   "cell_type": "markdown",
   "metadata": {},
   "source": [
    "## 今日头条"
   ]
  },
  {
   "cell_type": "markdown",
   "metadata": {},
   "source": [
    "### 数组中差为K的数对\n",
    "\n",
    "**题目:** 给定n个数，k是差值，计算非重复数字对的个数。\n",
    "    \n",
    "    第一行输入n,k; 第二行输入n个数\n",
    "\n",
    "**解法：** [leetcode532](https://www.cnblogs.com/grandyang/p/6545075.html)\n",
    "\n",
    "> 法1_pynums中每个元素+k, 得到新数组new, set(nums)和set(new)取交集\n",
    "\n",
    "> 法2：(1)和法1类似，建立一个dic存储nums中元素出现的个数; (2)然后遍历哈希表中的数字, 如果k为0且该数字出现的次数大于1，则结果res自增1; (3)如果k不为0，且用当前数字加上k后得到的新数字也在数组中存在，则结果res自增1\n",
    "\n",
    "> 法3：时间换空间。给数组排序，然后使用双指针。遍历排序后的数组，然后在当前数字之后找第一个和当前数之差不小于k的数字，若这个数字和当前数字之差正好为k，那么结果res自增1，然后遍历后面的数字去掉重复数字。"
   ]
  },
  {
   "cell_type": "code",
   "execution_count": 3,
   "metadata": {
    "collapsed": true
   },
   "outputs": [],
   "source": [
    "# O(n) O(n)\n",
    "def findPairs(nums, k): \n",
    "    new = [num+k for num in nums]\n",
    "    return len(set(nums)&set(new))"
   ]
  },
  {
   "cell_type": "code",
   "execution_count": 4,
   "metadata": {
    "collapsed": true
   },
   "outputs": [],
   "source": [
    "# O(n) O(n)\n",
    "def findPairs(nums, k): \n",
    "    dic = {}\n",
    "    for num in nums:\n",
    "        if num in dic:\n",
    "            dic[num] += 1\n",
    "        else:\n",
    "            dic[num] = 1\n",
    "    \n",
    "    res = 0\n",
    "    for num in dic:\n",
    "        if k == 0 and dic[num] > 1:\n",
    "            res += 1\n",
    "        elif k > 0 and num + k in dic:\n",
    "            res += 1\n",
    "    return res"
   ]
  },
  {
   "cell_type": "code",
   "execution_count": 5,
   "metadata": {
    "collapsed": true
   },
   "outputs": [],
   "source": [
    "def findPairs(nums, k):\n",
    "    res = 0\n",
    "    nums.sort()\n",
    "    i = 0\n",
    "    while i < len(nums):\n",
    "        j = i+1    # i后面的第一个数\n",
    "        while j < len(nums) and  nums[j] - nums[i] < k:    # 找到第一个和当前数之差≥k的数字\n",
    "            j += 1\n",
    "        if j < len(nums) and nums[j] - nums[i] == k:\n",
    "            res += 1\n",
    "        while i < len(nums)-1 and nums[i] == nums[i+1]:  # 去重\n",
    "            i += 1\n",
    "        i += 1\n",
    "    return res"
   ]
  },
  {
   "cell_type": "markdown",
   "metadata": {},
   "source": [
    "### 求函数调用次数\n",
    "\n",
    "**题目:** 定义两个字符串变量：s和m，再定义两种操作：\n",
    "\n",
    "> ① m = s; s = s + s;  ② s = s + m\n",
    "\n",
    "> 假设s初始化如下：s = \"a\", m = s;\n",
    "\n",
    "求最小的操作步骤数, 可以将s拼接到长度等于n。\n",
    "\n",
    "**示例：**\n",
    "\n",
    "> 输入6，输出3；输入5，输出4；输入7，输出6；输入9，输出4。\n",
    "\n",
    "**解法：** \n",
    "\n",
    "> 法1:（递归）从头开始考虑选用①或②\n",
    "\n",
    "> 法2：（BFS）模拟层次遍历，每一步两条路走\n",
    "\n",
    "> 法3：[leetcode650变形](https://blog.csdn.net/feifeiiong/article/details/76379966)\n",
    "\n",
    "> 可以转换为 ① m = s; s = s + m;  ② s = s + m ——> 复制操作m=s和粘贴操作s=s+m\n",
    "\n",
    "> ？？\n",
    "\n"
   ]
  },
  {
   "cell_type": "code",
   "execution_count": 6,
   "metadata": {
    "collapsed": true
   },
   "outputs": [],
   "source": [
    "def get_minpot(s,m,n):\n",
    "    cnt = 0\n",
    "    # 截止条件\n",
    "    if s == n:\n",
    "        return cnt\n",
    "    if s > n:\n",
    "        return n\n",
    "    return min(get_minpot(s*2,s,n), get_minpot(s+m,m,n)) + 1\n",
    "def countStep(n):\n",
    "    return get_minpot(1,1,n)"
   ]
  },
  {
   "cell_type": "code",
   "execution_count": 7,
   "metadata": {},
   "outputs": [],
   "source": [
    "def countStep(n):\n",
    "    step = 0\n",
    "    queue = [(1,1,step)]    # 初始化为(s,m)\n",
    "    \n",
    "    while queue:\n",
    "        size = len(queue)\n",
    "        for i in range(size):\n",
    "            temp = queue.pop(0)\n",
    "            if temp[0] == n:\n",
    "                return step\n",
    "            # 采用①\n",
    "            if temp[0]*2 <= n:\n",
    "                queue.append((temp[0]*2,temp[0]))\n",
    "            # 采用②\n",
    "            if temp[0] + temp[1] <= n:\n",
    "                queue.append((temp[0] + temp[1],temp[1]))      \n",
    "        step += 1  # 每遍历一层，步数+1"
   ]
  },
  {
   "cell_type": "markdown",
   "metadata": {},
   "source": [
    "### 输出666"
   ]
  },
  {
   "cell_type": "code",
   "execution_count": 8,
   "metadata": {
    "collapsed": true
   },
   "outputs": [],
   "source": [
    "nn = [\n",
    "[\n",
    "'66666',\n",
    "'6...6',\n",
    "'6...6',\n",
    "'6...6',\n",
    "'66666'\n",
    "],[\n",
    "'....6',\n",
    "'....6',\n",
    "'....6',\n",
    "'....6',\n",
    "'....6'\n",
    "],[\n",
    "'66666',\n",
    "'....6',\n",
    "'66666',\n",
    "'6....',\n",
    "'66666'\n",
    "],[\n",
    "'66666',\n",
    "'....6',\n",
    "'66666',\n",
    "'....6',\n",
    "'66666'\n",
    "],[\n",
    "'6...6',\n",
    "'6...6',\n",
    "'66666',\n",
    "'....6',\n",
    "'....6'\n",
    "],[\n",
    "'66666',\n",
    "'6....',\n",
    "'66666',\n",
    "'....6',\n",
    "'66666'\n",
    "],[\n",
    "'66666',\n",
    "'6....',\n",
    "'66666',\n",
    "'6...6',\n",
    "'66666'\n",
    "],[\n",
    "'66666',\n",
    "'....6',\n",
    "'....6',\n",
    "'....6',\n",
    "'....6'\n",
    "],[\n",
    "'66666',\n",
    "'6...6',\n",
    "'66666',\n",
    "'6...6',\n",
    "'66666'\n",
    "],[\n",
    "'66666',\n",
    "'6...6',\n",
    "'66666',\n",
    "'....6',\n",
    "'66666'\n",
    "]\n",
    "]"
   ]
  },
  {
   "cell_type": "code",
   "execution_count": 9,
   "metadata": {},
   "outputs": [
    {
     "name": "stdout",
     "output_type": "stream",
     "text": [
      "2\n",
      "6+6\n",
      "....6..66666\n",
      "....6......6\n",
      "....6..66666\n",
      "....6..6....\n",
      "....6..66666\n",
      "6*6\n",
      "66666..66666\n",
      "....6..6....\n",
      "66666..66666\n",
      "....6..6...6\n",
      "66666..66666\n"
     ]
    }
   ],
   "source": [
    "if __name__ == '__main__':\n",
    "    n = int(input())\n",
    "    for _ in range(n):\n",
    "        s = input()  # 比如输入6+6\n",
    "        s = str(eval(s))  # 求得s='12'\n",
    "        \n",
    "        ans = [[] for _ in range(5)]  # 输出5行\n",
    "        for i in s:\n",
    "            x = int(i)\n",
    "            ans[0].append(nn[x][0])\n",
    "            ans[1].append(nn[x][1])\n",
    "            ans[2].append(nn[x][2])\n",
    "            ans[3].append(nn[x][3])\n",
    "            ans[4].append(nn[x][4])\n",
    "        for i in range(5):\n",
    "            print('..'.join(ans[i]))"
   ]
  },
  {
   "cell_type": "markdown",
   "metadata": {},
   "source": [
    "### Magic\n",
    "\n",
    "**题目:** \n",
    "\n",
    "**示例：**\n",
    "\n",
    "**解法：** \n",
    "\n",
    "> 都排序，比较平均值大小，均值大A的往均值小的B放数（数a大于B均值，且小于A均值）\n"
   ]
  },
  {
   "cell_type": "code",
   "execution_count": 10,
   "metadata": {},
   "outputs": [],
   "source": [
    "def magic(A, B):\n",
    "    A = sorted(A)\n",
    "    B = sorted(B)\n",
    "    if sum(set(A))/len(A) < sum(set(B))/len(B):\n",
    "        A, B = B, A\n",
    "    cnt = 0    \n",
    "    av_A = sum(set(A))/len(A)\n",
    "    av_B = sum(set(B))/len(B)\n",
    "    \n",
    "    for i in range(len(A)):\n",
    "        if len(A) <= 1:\n",
    "            return cnt\n",
    "        if A[i] > av_B and A[i] < av_A:\n",
    "            B = set(B)\n",
    "            B.add(A[i])\n",
    "            A.pop(i)\n",
    "            \n",
    "            print('A:',A)\n",
    "            print('B:',B)\n",
    "            cnt += magic(A, B)+1\n",
    "            break\n",
    "            \n",
    "    return cnt"
   ]
  },
  {
   "cell_type": "markdown",
   "metadata": {},
   "source": [
    "### 跳板游戏\n",
    "\n",
    "**题目:** 已知空中有N个高度不同的跳板，小T刚开始在高度为0的地方，每次跳跃可以选择和直接当前..\n",
    "\n",
    "\n",
    "**解法：** \n",
    "\n",
    "> 不一定每次都要贪心选最好的跳板\n",
    "\n",
    "> 比如1 3 4 6，h=2，贪心只能0-2-6，而实际上可以0-2-4-8\n",
    "\n",
    "> 解法：每层都存储跳1,2..H高度的结果，层次遍历"
   ]
  },
  {
   "cell_type": "code",
   "execution_count": 11,
   "metadata": {},
   "outputs": [
    {
     "name": "stdout",
     "output_type": "stream",
     "text": [
      "8\n"
     ]
    }
   ],
   "source": [
    "# 考虑不周全的代码\n",
    "N = [1,3,6]\n",
    "K = 3  # K次\n",
    "H = 2  # 高度差\n",
    "\n",
    "start = 0\n",
    "N.sort()\n",
    "for _ in range(K):\n",
    "    for i in range(len(N)):\n",
    "        if N[i] - start > H or len(N) == 1 and N[i] - start <= H:  # 找到第一个大于的\n",
    "            start = 2 * N[i-1] - start\n",
    "            N.pop(i-1)\n",
    "            break\n",
    "print(start)"
   ]
  },
  {
   "cell_type": "code",
   "execution_count": 12,
   "metadata": {},
   "outputs": [
    {
     "name": "stdout",
     "output_type": "stream",
     "text": [
      "8\n"
     ]
    }
   ],
   "source": [
    "N = [1,3,6]\n",
    "K = 4  # K次\n",
    "H = 2  # 高度差\n",
    "\n",
    "vis = [0] * int(1e8)\n",
    "# 建立一个稀疏向量，存储台阶的位置\n",
    "a = [0] * int(1e8)\n",
    "for n in N:\n",
    "    a[n] = 1\n",
    "\n",
    "start = 0\n",
    "step= 0\n",
    "q = [(start,step)]  # (位置，到该位置要跳多少下)\n",
    "\n",
    "res = 0  # 高度\n",
    "while q:\n",
    "    start, step = q.pop(0)\n",
    "    if step > K:  # 此处判断>K,是想让K次的最高位置都保存了\n",
    "        break\n",
    "\n",
    "    if start > res:\n",
    "        res = start\n",
    "    for h in range(1,H+1):  # 一次跳多高\n",
    "        # 位置有跳板,&可以跳到未被访问的位置\n",
    "        if a[start+h] and not vis[start+2*h]:\n",
    "            vis[start+2*h] = True  # 之前跳到过这个位置，不用再存储了\n",
    "            q.append((start+2*h,step+1))\n",
    "            \n",
    "        if start-2*h>0 and a[start-h] and not vis[start-2*h]:\n",
    "            vis[start+2*h] = True  # 之前跳到过这个位置，不用再存储了\n",
    "            q.append((start-2*h,step+1))\n",
    "print(res)      "
   ]
  },
  {
   "cell_type": "code",
   "execution_count": null,
   "metadata": {
    "collapsed": true
   },
   "outputs": [],
   "source": []
  }
 ],
 "metadata": {
  "kernelspec": {
   "display_name": "Python 3",
   "language": "python",
   "name": "python3"
  },
  "language_info": {
   "codemirror_mode": {
    "name": "ipython",
    "version": 3
   },
   "file_extension": ".py",
   "mimetype": "text/x-python",
   "name": "python",
   "nbconvert_exporter": "python",
   "pygments_lexer": "ipython3",
   "version": "3.6.4"
  },
  "toc": {
   "nav_menu": {},
   "number_sections": true,
   "sideBar": true,
   "skip_h1_title": false,
   "title_cell": "Table of Contents",
   "title_sidebar": "Contents",
   "toc_cell": false,
   "toc_position": {},
   "toc_section_display": true,
   "toc_window_display": false
  }
 },
 "nbformat": 4,
 "nbformat_minor": 2
}
